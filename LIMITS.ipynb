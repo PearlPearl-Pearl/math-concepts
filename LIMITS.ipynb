{
 "cells": [
  {
   "cell_type": "markdown",
   "metadata": {},
   "source": [
    "# LIMITS OF A FUNCTION\n",
    "The concept of `limits of a function` is fundamental to the study of Calculus. Limits allow mathematicians to find the `derivatives` of a function, a useful concept that allows companies and individuals to maximize profit, among other things. The limits of a function give information about the behaviour of a function as the input values tend toward some point. However, for most students this concept as introduced can be very intimidating and confusing since they may have.\n",
    "\n",
    "### WHAT IS A LIMIT OF A FUNCTION?\n",
    "Let $A, B \\subseteq \\mathbb{R}$ and consider a function $$f:A \\to B$$ \n",
    "The limit $L,$ of $f$ as $x\\to a \\in A,$ is a value that describes how the function's output values behave as the input values approach $a$ from either the left or the right. In simpler terms it tells us the value that $f(x)$ gets arbitrarily close to as $x$ approaches $a.$\n",
    "\n"
   ]
  },
  {
   "cell_type": "code",
   "execution_count": 1,
   "metadata": {},
   "outputs": [],
   "source": [
    "import numpy as np\n",
    "from matplotlib import pyplot as plt\n",
    "from matplotlib.animation import FuncAnimation\n",
    "from typing import Union"
   ]
  },
  {
   "cell_type": "code",
   "execution_count": 2,
   "metadata": {},
   "outputs": [],
   "source": [
    "class Limit:\n",
    "    \"\"\"This class provides functionality to visualize, analyze, and verify \n",
    "    limits of a function using various methods. \n",
    "    \n",
    "    Args:\n",
    "    fun: The function with which you want to evaluate the limit at some point\n",
    "    limit_point: The point at which you want to evaluate the limit\"\"\"\n",
    "    \n",
    "    def __init__(self, fun, limit_point:Union[float, int]):\n",
    "        self.fun = fun\n",
    "        self.limit = limit_point\n",
    "        if self.limit==np.inf:\n",
    "            self.x = np.linspace(500, 600, 101) \n",
    "            self.y = self.fun(self.x)\n",
    "            self.left_x = self.x\n",
    "            self.left_y = self.fun(self.left_x)\n",
    "        elif self.limit==-np.inf:\n",
    "            self.x = np.linspace(-500, -600, 101) \n",
    "            self.y = self.fun(self.x)\n",
    "            self.right_x = self.x\n",
    "            self.right_y= self.fun(self.right_x)\n",
    "        else:\n",
    "            self.x = np.linspace(self.limit-2, self.limit+2, 101)\n",
    "            self.left_x = np.linspace(self.limit-5, self.limit-(10**(-1.5)))\n",
    "            self.right_x = np.linspace(self.limit+5, self.limit+(10**(-1.5)))\n",
    "        \n",
    "            \n",
    "    def draw(self):\n",
    "        \"\"\"The draw method plots the graph of the function\"\"\"\n",
    "        plt.plot(self.x, self.y)\n",
    "        plt.grid()\n",
    "        plt.show()\n",
    "\n",
    "    def anim(self):\n",
    "        \"\"\"The anim method animates the values in the domain getting closer to the limit point.\"\"\"\n",
    "        fig, ax = plt.subplots()\n",
    "        leftline, = ax.plot([], [], 'o', markersize=5, color='red')\n",
    "        rightline, = ax.plot([], [], 'o', markersize=5, color='blue')\n",
    "\n",
    "\n",
    "        def update_data(i):\n",
    "            \"\"\"The update_data is a helper method that updates the data for each frame of the animation\n",
    "            \n",
    "            Args:\n",
    "            i: This is the value of each frame\"\"\"\n",
    "            try:\n",
    "                leftline.set_data(self.left_x[i:i+1], self.left_y[i:i+1])\n",
    "            except IndexError or AttributeError:\n",
    "                pass\n",
    "            try:\n",
    "                rightline.set_data(self.right_x[i:i+1], self.right_y[i:i+1])\n",
    "            except IndexError or AttributeError:\n",
    "                pass\n",
    "            return leftline, rightline\n",
    "\n",
    "        self.draw()\n",
    "        ani = FuncAnimation(\n",
    "                    fig=fig, \n",
    "                    func = update_data, \n",
    "                    frames=len(self.left_x), \n",
    "                    interval=25, \n",
    "                    )\n",
    "        \n",
    "        ani.save(\"function.mp4\")\n",
    "        \n",
    "        plt.show()\n",
    "\n",
    "    def is_defined(self):\n",
    "        \"\"\"The is_defined method checks if the function is defined at the specified limit point.\"\"\"\n",
    "        try:\n",
    "            self.fun(self.limit)\n",
    "            return self.fun(self.limit)\n",
    "        except:\n",
    "            return False\n",
    "\n",
    "    def solve_left(self):\n",
    "        \"\"\"The solve_left method evaluates the limit for values to the left of the specified limit point.\"\"\"\n",
    "        \n",
    "        left_x = [self.limit-(10**(-n)) for n in range(1, 1000)]\n",
    "        left_x = np.array(left_x)\n",
    "        left_y = self.fun(left_x)\n",
    "        left_y = left_y[~np.isnan(left_y)]\n",
    "        is_converge = [current - previous for current, previous in zip(left_y, left_y[1:])]\n",
    "        tolerance = [(current - previous)<0.01 for current, previous in zip(is_converge, is_converge[1:])]\n",
    "        if all(tolerance[5:]):\n",
    "            return left_y\n",
    "        return None\n",
    "    \n",
    "    def solve_right(self):\n",
    "        \"\"\"The solve_left method evaluates the limit for values to the right of the specified limit point.\"\"\"\n",
    "\n",
    "        right_x = [self.limit+(10**(-n)) for n in range(1,1000)]\n",
    "        right_x = np.array(right_x)\n",
    "        right_y = self.fun(right_x)\n",
    "        right_y = right_y[~np.isnan(right_y)]\n",
    "        is_converge = [future - current for future, current in zip(right_y[1:], right_y)]\n",
    "        tolerance = [(future-current)<0.01 for future, current in zip(is_converge[1:], is_converge)]\n",
    "        if all(tolerance[5:]):\n",
    "            return right_y\n",
    "        return None\n",
    "\n",
    "    def guess(self):\n",
    "        \"\"\"The method checks that the left and right limit values are equal and uses that as a guess for the `solve_epsilon`\"\"\"\n",
    "\n",
    "        if self.solve_right() is not None and self.solve_left() is not None\\\n",
    "              and self.solve_right()[-1] == self.solve_left()[-1]:\n",
    "            return self.solve_left()[-1]\n",
    "        return None\n",
    "\n",
    "    def get_delta(self, epsilon:Union[float, int], limit_value:Union[float, int]):\n",
    "        \"\"\"The get_delta method gets a value of delta for each value of epsilon that is specified.\n",
    "        \n",
    "        Args:\n",
    "        epsilon: float|int\n",
    "        The specified epsilon value for which we want to get a delta value\n",
    "        limit_value: float|int\n",
    "        The guess for the limit of the function\"\"\"\n",
    "\n",
    "        domain_codomain = list(zip(self.x, self.y))\n",
    "        if epsilon<=0:\n",
    "            raise ValueError('`epsilon` value should be a nonzero positive number')\n",
    "        for _, y in domain_codomain.copy():\n",
    "            if abs(y-limit_value)>epsilon:\n",
    "                domain_codomain.remove((_,y))\n",
    "        domain_difference = [abs(x-self.limit)+epsilon if abs(x-self.limit)==0 else abs(x-self.limit) for x,_ in domain_codomain ]\n",
    "        try:\n",
    "            return min(domain_difference)\n",
    "        except:\n",
    "            return None\n",
    "        \n",
    "    def solve_epsilon(self):\n",
    "        \"\"\"The solve_epsilon method checks that the initial guess from the guess method is indeed the limit of the function at the specified point `self.limit`\"\"\"\n",
    "\n",
    "        epsilon_values = np.random.random(10)\n",
    "        if self.guess() != None and self.get_delta(epsilon_values[0], self.guess()):\n",
    "            delta_values = [self.get_delta(i, self.guess())for i in epsilon_values]\n",
    "            return self.guess() if len(delta_values)==len(epsilon_values) else None\n",
    "    "
   ]
  },
  {
   "cell_type": "code",
   "execution_count": 3,
   "metadata": {},
   "outputs": [
    {
     "data": {
      "image/png": "[encoded data removed]",
      "text/plain": [
       "<Figure size 640x480 with 1 Axes>"
      ]
     },
     "metadata": {},
     "output_type": "display_data"
    },
    {
     "ename": "AttributeError",
     "evalue": "'Limit' object has no attribute 'right_x'",
     "output_type": "error",
     "traceback": [
      "\u001b[0;31m---------------------------------------------------------------------------\u001b[0m",
      "\u001b[0;31mAttributeError\u001b[0m                            Traceback (most recent call last)",
      "Cell \u001b[0;32mIn[3], line 4\u001b[0m\n\u001b[1;32m      1\u001b[0m f \u001b[38;5;241m=\u001b[39m \u001b[38;5;28;01mlambda\u001b[39;00m x: np\u001b[38;5;241m.\u001b[39mexp(x)\n\u001b[1;32m      2\u001b[0m test_limit \u001b[38;5;241m=\u001b[39m Limit(f, \u001b[38;5;28mfloat\u001b[39m(\u001b[38;5;124m'\u001b[39m\u001b[38;5;124minf\u001b[39m\u001b[38;5;124m'\u001b[39m))\n\u001b[0;32m----> 4\u001b[0m \u001b[43mtest_limit\u001b[49m\u001b[38;5;241;43m.\u001b[39;49m\u001b[43manim\u001b[49m\u001b[43m(\u001b[49m\u001b[43m)\u001b[49m\n",
      "Cell \u001b[0;32mIn[2], line 64\u001b[0m, in \u001b[0;36mLimit.anim\u001b[0;34m(self)\u001b[0m\n\u001b[1;32m     56\u001b[0m \u001b[38;5;28mself\u001b[39m\u001b[38;5;241m.\u001b[39mdraw()\n\u001b[1;32m     57\u001b[0m ani \u001b[38;5;241m=\u001b[39m FuncAnimation(\n\u001b[1;32m     58\u001b[0m             fig\u001b[38;5;241m=\u001b[39mfig, \n\u001b[1;32m     59\u001b[0m             func \u001b[38;5;241m=\u001b[39m update_data, \n\u001b[1;32m     60\u001b[0m             frames\u001b[38;5;241m=\u001b[39m\u001b[38;5;28mlen\u001b[39m(\u001b[38;5;28mself\u001b[39m\u001b[38;5;241m.\u001b[39mleft_x), \n\u001b[1;32m     61\u001b[0m             interval\u001b[38;5;241m=\u001b[39m\u001b[38;5;241m25\u001b[39m, \n\u001b[1;32m     62\u001b[0m             )\n\u001b[0;32m---> 64\u001b[0m \u001b[43mani\u001b[49m\u001b[38;5;241;43m.\u001b[39;49m\u001b[43msave\u001b[49m\u001b[43m(\u001b[49m\u001b[38;5;124;43m\"\u001b[39;49m\u001b[38;5;124;43mfunction.mp4\u001b[39;49m\u001b[38;5;124;43m\"\u001b[39;49m\u001b[43m)\u001b[49m\n\u001b[1;32m     66\u001b[0m plt\u001b[38;5;241m.\u001b[39mshow()\n",
      "File \u001b[0;32m~/.local/lib/python3.10/site-packages/matplotlib/animation.py:1092\u001b[0m, in \u001b[0;36mAnimation.save\u001b[0;34m(self, filename, writer, fps, dpi, codec, bitrate, extra_args, metadata, extra_anim, savefig_kwargs, progress_callback)\u001b[0m\n\u001b[1;32m   1089\u001b[0m \u001b[38;5;28;01mwith\u001b[39;00m writer\u001b[38;5;241m.\u001b[39msaving(\u001b[38;5;28mself\u001b[39m\u001b[38;5;241m.\u001b[39m_fig, filename, dpi), \\\n\u001b[1;32m   1090\u001b[0m      cbook\u001b[38;5;241m.\u001b[39m_setattr_cm(\u001b[38;5;28mself\u001b[39m\u001b[38;5;241m.\u001b[39m_fig\u001b[38;5;241m.\u001b[39mcanvas, _is_saving\u001b[38;5;241m=\u001b[39m\u001b[38;5;28;01mTrue\u001b[39;00m, manager\u001b[38;5;241m=\u001b[39m\u001b[38;5;28;01mNone\u001b[39;00m):\n\u001b[1;32m   1091\u001b[0m     \u001b[38;5;28;01mfor\u001b[39;00m anim \u001b[38;5;129;01min\u001b[39;00m all_anim:\n\u001b[0;32m-> 1092\u001b[0m         \u001b[43manim\u001b[49m\u001b[38;5;241;43m.\u001b[39;49m\u001b[43m_init_draw\u001b[49m\u001b[43m(\u001b[49m\u001b[43m)\u001b[49m  \u001b[38;5;66;03m# Clear the initial frame\u001b[39;00m\n\u001b[1;32m   1093\u001b[0m     frame_number \u001b[38;5;241m=\u001b[39m \u001b[38;5;241m0\u001b[39m\n\u001b[1;32m   1094\u001b[0m     \u001b[38;5;66;03m# TODO: Currently only FuncAnimation has a save_count\u001b[39;00m\n\u001b[1;32m   1095\u001b[0m     \u001b[38;5;66;03m#       attribute. Can we generalize this to all Animations?\u001b[39;00m\n",
      "File \u001b[0;32m~/.local/lib/python3.10/site-packages/matplotlib/animation.py:1747\u001b[0m, in \u001b[0;36mFuncAnimation._init_draw\u001b[0;34m(self)\u001b[0m\n\u001b[1;32m   1739\u001b[0m         warnings\u001b[38;5;241m.\u001b[39mwarn(\n\u001b[1;32m   1740\u001b[0m             \u001b[38;5;124m\"\u001b[39m\u001b[38;5;124mCan not start iterating the frames for the initial draw. \u001b[39m\u001b[38;5;124m\"\u001b[39m\n\u001b[1;32m   1741\u001b[0m             \u001b[38;5;124m\"\u001b[39m\u001b[38;5;124mThis can be caused by passing in a 0 length sequence \u001b[39m\u001b[38;5;124m\"\u001b[39m\n\u001b[0;32m   (...)\u001b[0m\n\u001b[1;32m   1744\u001b[0m             \u001b[38;5;124m\"\u001b[39m\u001b[38;5;124mit may be exhausted due to a previous display or save.\u001b[39m\u001b[38;5;124m\"\u001b[39m\n\u001b[1;32m   1745\u001b[0m         )\n\u001b[1;32m   1746\u001b[0m         \u001b[38;5;28;01mreturn\u001b[39;00m\n\u001b[0;32m-> 1747\u001b[0m     \u001b[38;5;28;43mself\u001b[39;49m\u001b[38;5;241;43m.\u001b[39;49m\u001b[43m_draw_frame\u001b[49m\u001b[43m(\u001b[49m\u001b[43mframe_data\u001b[49m\u001b[43m)\u001b[49m\n\u001b[1;32m   1748\u001b[0m \u001b[38;5;28;01melse\u001b[39;00m:\n\u001b[1;32m   1749\u001b[0m     \u001b[38;5;28mself\u001b[39m\u001b[38;5;241m.\u001b[39m_drawn_artists \u001b[38;5;241m=\u001b[39m \u001b[38;5;28mself\u001b[39m\u001b[38;5;241m.\u001b[39m_init_func()\n",
      "File \u001b[0;32m~/.local/lib/python3.10/site-packages/matplotlib/animation.py:1766\u001b[0m, in \u001b[0;36mFuncAnimation._draw_frame\u001b[0;34m(self, framedata)\u001b[0m\n\u001b[1;32m   1762\u001b[0m     \u001b[38;5;28mself\u001b[39m\u001b[38;5;241m.\u001b[39m_save_seq \u001b[38;5;241m=\u001b[39m \u001b[38;5;28mself\u001b[39m\u001b[38;5;241m.\u001b[39m_save_seq[\u001b[38;5;241m-\u001b[39m\u001b[38;5;28mself\u001b[39m\u001b[38;5;241m.\u001b[39m_save_count:]\n\u001b[1;32m   1764\u001b[0m \u001b[38;5;66;03m# Call the func with framedata and args. If blitting is desired,\u001b[39;00m\n\u001b[1;32m   1765\u001b[0m \u001b[38;5;66;03m# func needs to return a sequence of any artists that were modified.\u001b[39;00m\n\u001b[0;32m-> 1766\u001b[0m \u001b[38;5;28mself\u001b[39m\u001b[38;5;241m.\u001b[39m_drawn_artists \u001b[38;5;241m=\u001b[39m \u001b[38;5;28;43mself\u001b[39;49m\u001b[38;5;241;43m.\u001b[39;49m\u001b[43m_func\u001b[49m\u001b[43m(\u001b[49m\u001b[43mframedata\u001b[49m\u001b[43m,\u001b[49m\u001b[43m \u001b[49m\u001b[38;5;241;43m*\u001b[39;49m\u001b[38;5;28;43mself\u001b[39;49m\u001b[38;5;241;43m.\u001b[39;49m\u001b[43m_args\u001b[49m\u001b[43m)\u001b[49m\n\u001b[1;32m   1768\u001b[0m \u001b[38;5;28;01mif\u001b[39;00m \u001b[38;5;28mself\u001b[39m\u001b[38;5;241m.\u001b[39m_blit:\n\u001b[1;32m   1770\u001b[0m     err \u001b[38;5;241m=\u001b[39m \u001b[38;5;167;01mRuntimeError\u001b[39;00m(\u001b[38;5;124m'\u001b[39m\u001b[38;5;124mThe animation function must return a sequence \u001b[39m\u001b[38;5;124m'\u001b[39m\n\u001b[1;32m   1771\u001b[0m                        \u001b[38;5;124m'\u001b[39m\u001b[38;5;124mof Artist objects.\u001b[39m\u001b[38;5;124m'\u001b[39m)\n",
      "Cell \u001b[0;32mIn[2], line 51\u001b[0m, in \u001b[0;36mLimit.anim.<locals>.update_data\u001b[0;34m(i)\u001b[0m\n\u001b[1;32m     49\u001b[0m     \u001b[38;5;28;01mpass\u001b[39;00m\n\u001b[1;32m     50\u001b[0m \u001b[38;5;28;01mtry\u001b[39;00m:\n\u001b[0;32m---> 51\u001b[0m     rightline\u001b[38;5;241m.\u001b[39mset_data(\u001b[38;5;28;43mself\u001b[39;49m\u001b[38;5;241;43m.\u001b[39;49m\u001b[43mright_x\u001b[49m[i:i\u001b[38;5;241m+\u001b[39m\u001b[38;5;241m1\u001b[39m], \u001b[38;5;28mself\u001b[39m\u001b[38;5;241m.\u001b[39mright_y[i:i\u001b[38;5;241m+\u001b[39m\u001b[38;5;241m1\u001b[39m])\n\u001b[1;32m     52\u001b[0m \u001b[38;5;28;01mexcept\u001b[39;00m \u001b[38;5;167;01mIndexError\u001b[39;00m \u001b[38;5;129;01mor\u001b[39;00m \u001b[38;5;167;01mAttributeError\u001b[39;00m:\n\u001b[1;32m     53\u001b[0m     \u001b[38;5;28;01mpass\u001b[39;00m\n",
      "\u001b[0;31mAttributeError\u001b[0m: 'Limit' object has no attribute 'right_x'"
     ]
    }
   ],
   "source": [
    "f = lambda x: np.exp(x)\n",
    "test_limit = Limit(f, float('inf'))\n",
    "\n",
    "test_limit.anim()"
   ]
  },
  {
   "cell_type": "code",
   "execution_count": 1,
   "metadata": {},
   "outputs": [
    {
     "name": "stdout",
     "output_type": "stream",
     "text": [
      "The limit approaches ∞\n"
     ]
    }
   ],
   "source": [
    "print(\"The limit approaches \\u221E\")"
   ]
  }
 ],
 "metadata": {
  "kernelspec": {
   "display_name": "Python 3",
   "language": "python",
   "name": "python3"
  },
  "language_info": {
   "codemirror_mode": {
    "name": "ipython",
    "version": 3
   },
   "file_extension": ".py",
   "mimetype": "text/x-python",
   "name": "python",
   "nbconvert_exporter": "python",
   "pygments_lexer": "ipython3",
   "version": "3.10.12"
  }
 },
 "nbformat": 4,
 "nbformat_minor": 2
}
