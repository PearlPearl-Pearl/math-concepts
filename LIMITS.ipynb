{
 "cells": [
  {
   "cell_type": "markdown",
   "metadata": {},
   "source": [
    "# LIMITS OF A FUNCTION\n",
    "The concept of `limits of a function` is fundamental to the study of Calculus. Limits allow mathematicians to do `differentiation` a useful concepts that allows companies and individuals to maximize profit, among other things. The limits of a function give information about the behaviour of a function output values around a specified point in the domain of the function. However, for most students this concept is introduced in an intimidating and very abstract manner which causes frustration and eventually affects their understanding of subsequent concepts in the study of Calculus.\n",
    "\n",
    "\n",
    "This project seeks to bridge the gap between the abstract nature of mathematics and the study of the subject in a visually enabling manner. It provides functionality that enables users to clearly visualize the behaviour of the function to aid them in their study of limits.\n",
    "<!-- Give an introduction here -->\n",
    "### WHAT IS A LIMIT OF A FUNCTION?\n",
    "Let $A, B \\subseteq \\mathbb{R}$ and consider a function $$f:A \\to B$$ \n",
    "The limit $L$ of $f$ around $a \\in A$ is a value that describes how the function's output values behave as the input values approach $a$ from either the left or the right. In simpler terms it tells us the value that $f(x)$ gets arbitrarily close to as $x$ approaches $a.$\n",
    "## PURPOSE OF PROJECT\n",
    "## SCOPE OF PROJECT <!--The functionality and attributes it provides-->\n",
    "\n"
   ]
  },
  {
   "cell_type": "code",
   "execution_count": 1,
   "metadata": {},
   "outputs": [],
   "source": [
    "import numpy as np\n",
    "from matplotlib import pyplot as plt\n",
    "from matplotlib.animation import FuncAnimation\n",
    "from typing import Union"
   ]
  },
  {
   "cell_type": "code",
   "execution_count": 2,
   "metadata": {},
   "outputs": [],
   "source": [
    "class Limit:\n",
    "    def __init__(self, fun, limit_point:Union[float, int]):\n",
    "        self.fun = fun\n",
    "        self.limit = limit_point\n",
    "        self.x = np.linspace(self.limit-2, self.limit+2, 101)\n",
    "        self.y = self.fun(self.x)\n",
    "        self.left_x = None\n",
    "        self.left_y = None\n",
    "        self.right_x = None\n",
    "        self.right_y= None\n",
    "\n",
    "    def create_none(self):\n",
    "        left_x = np.linspace(self.limit-5, self.limit-(10**(-1.5)))\n",
    "        left_y = self.fun(left_x)\n",
    "        right_x = np.linspace(self.limit+5, self.limit+(10**(-1.5)))\n",
    "        right_x = np.array(right_x)\n",
    "        right_y = self.fun(right_x)\n",
    "        return left_x, left_y, right_x, right_y\n",
    "    \n",
    "    def update_none(self):\n",
    "        self.left_x, self.left_y, self.right_x, self.right_y = self.create_none()\n",
    "\n",
    "    def draw(self):\n",
    "        self.update_none()\n",
    "        plt.plot(self.x, self.y)\n",
    "        plt.grid()\n",
    "        plt.show()\n",
    "\n",
    "    def anim(self):\n",
    "        self.update_none()\n",
    "        fig, ax = plt.subplots()\n",
    "        leftline, = ax.plot([], [], 'o', markersize=5, color='red')\n",
    "        rightline, = ax.plot([], [], 'o', markersize=5, color='blue')\n",
    "\n",
    "\n",
    "        def update_data(i):\n",
    "            try:\n",
    "                leftline.set_data(self.left_x[i:i+1], self.left_y[i:i+1])\n",
    "                rightline.set_data(self.right_x[i:i+1], self.right_y[i:i+1])\n",
    "            except IndexError:\n",
    "                pass\n",
    "            return leftline, rightline\n",
    "\n",
    "        self.draw()\n",
    "        ani = FuncAnimation(\n",
    "                    fig=fig, \n",
    "                    func = update_data, \n",
    "                    frames=len(self.left_x), \n",
    "                    interval=25, \n",
    "                    )\n",
    "        \n",
    "        ani.save(\"function.mp4\")\n",
    "        \n",
    "        plt.show()\n",
    "\n",
    "    def is_defined(self):\n",
    "        try:\n",
    "            self.fun(self.limit)\n",
    "            return self.fun(self.limit)\n",
    "        except:\n",
    "            return False\n",
    "\n",
    "    def solve_left(self):\n",
    "        left_x = [self.limit-(10**(-n)) for n in range(1, 1000)]\n",
    "        left_x = np.array(left_x)\n",
    "        left_y = self.fun(left_x)\n",
    "        left_y = left_y[~np.isnan(left_y)]\n",
    "        is_converge = [current - previous for current, previous in zip(left_y, left_y[1:])]\n",
    "        tolerance = [(current - previous)<0.01 for current, previous in zip(is_converge, is_converge[1:])]\n",
    "        if all(tolerance[5:]):\n",
    "            return left_y\n",
    "        return None\n",
    "    \n",
    "    def solve_right(self):\n",
    "        right_x = [self.limit+(10**(-n)) for n in range(1,1000)]\n",
    "        right_x = np.array(right_x)\n",
    "        right_y = self.fun(right_x)\n",
    "        right_y = right_y[~np.isnan(right_y)]\n",
    "        is_converge = [future - current for future, current in zip(right_y[1:], right_y)]\n",
    "        tolerance = [(future-current)<0.01 for future, current in zip(is_converge[1:], is_converge)]\n",
    "        if all(tolerance[5:]):\n",
    "            return right_y\n",
    "        return None\n",
    "\n",
    "    def guess(self):\n",
    "        if self.solve_right() is not None and self.solve_left() is not None\\\n",
    "              and self.solve_right()[-1] == self.solve_left()[-1]:\n",
    "            return self.solve_left()[-1]\n",
    "        return None\n",
    "\n",
    "    def get_delta(self, epsilon:Union[float, int], limit_value:Union[float, int]):\n",
    "        domain_codomain = list(zip(self.x, self.y))\n",
    "        if epsilon<=0:\n",
    "            raise ValueError('`epsilon` value should be a nonzero positive number')\n",
    "        for _, y in domain_codomain.copy():\n",
    "            if abs(y-limit_value)>epsilon:\n",
    "                domain_codomain.remove((_,y))\n",
    "        domain_difference = [abs(x-self.limit)+epsilon if abs(x-self.limit)==0 else abs(x-self.limit) for x,_ in domain_codomain ]\n",
    "        try:\n",
    "            return min(domain_difference)\n",
    "        except:\n",
    "            return None\n",
    "        \n",
    "    def solve_epsilon(self):\n",
    "        epsilon_values = np.random.random(10)\n",
    "        if self.guess() != None and self.get_delta(epsilon_values[0], self.guess()):\n",
    "            delta_values = [self.get_delta(i, self.guess())for i in epsilon_values]\n",
    "            return self.guess() if len(delta_values)==len(epsilon_values) else None\n",
    "    "
   ]
  },
  {
   "cell_type": "code",
   "execution_count": 5,
   "metadata": {},
   "outputs": [
    {
     "name": "stderr",
     "output_type": "stream",
     "text": [
      "/tmp/ipykernel_704303/2836014051.py:1: RuntimeWarning: divide by zero encountered in divide\n",
      "  f = lambda x: (1/x)+(2/x**2)\n"
     ]
    },
    {
     "data": {
      "image/png": "[encoded data removed]",
      "text/plain": [
       "<Figure size 640x480 with 1 Axes>"
      ]
     },
     "metadata": {},
     "output_type": "display_data"
    }
   ],
   "source": [
    "f = lambda x: (1/x)+(2/x**2)\n",
    "test_limit = Limit(f, 0)\n",
    "\n",
    "test_limit.anim()"
   ]
  },
  {
   "cell_type": "code",
   "execution_count": null,
   "metadata": {},
   "outputs": [],
   "source": []
  }
 ],
 "metadata": {
  "kernelspec": {
   "display_name": "Python 3",
   "language": "python",
   "name": "python3"
  },
  "language_info": {
   "codemirror_mode": {
    "name": "ipython",
    "version": 3
   },
   "file_extension": ".py",
   "mimetype": "text/x-python",
   "name": "python",
   "nbconvert_exporter": "python",
   "pygments_lexer": "ipython3",
   "version": "3.10.12"
  }
 },
 "nbformat": 4,
 "nbformat_minor": 2
}
