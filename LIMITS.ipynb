{
 "cells": [
  {
   "cell_type": "markdown",
   "metadata": {},
   "source": [
    "# LIMITS OF A FUNCTION\n",
    "The concept of `limits of a function` is fundamental to the study of Calculus. Limits allow mathematicians to find the `derivatives` of a function, a useful concept that allows companies and individuals to maximize profit, among other things. The limits of a function give information about the behaviour of a function as the input values tend toward some point. However, for most students this concept as introduced can be very intimidating and confusing since they may have.\n",
    "\n",
    "### WHAT IS A LIMIT OF A FUNCTION?\n",
    "Let $A, B \\subseteq \\mathbb{R}$ and consider a function $$f:A \\to B$$ \n",
    "The limit $L,$ of $f$ as $x\\to a \\in A,$ is a value that describes how the function's output values behave as the input values approach $a$ from either the left or the right. In simpler terms it tells us the value that $f(x)$ gets arbitrarily close to as $x$ approaches $a.$\n",
    "\n"
   ]
  },
  {
   "cell_type": "code",
   "execution_count": 2,
   "metadata": {},
   "outputs": [],
   "source": [
    "import numpy as np\n",
    "from matplotlib import pyplot as plt\n",
    "from matplotlib.animation import FuncAnimation\n",
    "from typing import Union"
   ]
  },
  {
   "cell_type": "code",
   "execution_count": 3,
   "metadata": {},
   "outputs": [],
   "source": [
    "class Limit:\n",
    "    \"\"\"This class provides functionality to visualize, analyze, and verify \n",
    "    limits of a function using various methods. \n",
    "    \n",
    "    Args:\n",
    "    fun: The function with which you want to evaluate the limit at some point\n",
    "    limit_point: The point at which you want to evaluate the limit\"\"\"\n",
    "    \n",
    "    def __init__(self, fun, limit_point:Union[float, int]):\n",
    "        self.fun = fun\n",
    "        self.limit = limit_point\n",
    "        if self.limit==np.inf:\n",
    "            self.x = np.linspace(500, 600, 101) \n",
    "            self.y = self.fun(self.x)\n",
    "            self.left_x = self.x\n",
    "            self.left_y = self.fun(self.left_x)\n",
    "        elif self.limit==-np.inf:\n",
    "            self.x = np.linspace(-500, -600, 101) \n",
    "            self.y = self.fun(self.x)\n",
    "            self.right_x = self.x\n",
    "            self.right_y= self.fun(self.right_x)\n",
    "        else:\n",
    "            self.x = np.linspace(self.limit-2, self.limit+2, 101)\n",
    "            self.left_x = np.linspace(self.limit-5, self.limit-(10**(-1.5)))\n",
    "            self.right_x = np.linspace(self.limit+5, self.limit+(10**(-1.5)))\n",
    "        \n",
    "            \n",
    "    def draw(self):\n",
    "        \"\"\"The draw method plots the graph of the function\"\"\"\n",
    "        plt.plot(self.x, self.y)\n",
    "        plt.grid()\n",
    "        plt.show()\n",
    "\n",
    "    def anim(self):\n",
    "        \"\"\"The anim method animates the values in the domain getting closer to the limit point.\"\"\"\n",
    "        fig, ax = plt.subplots()\n",
    "        leftline, = ax.plot([], [], 'o', markersize=5, color='red')\n",
    "        rightline, = ax.plot([], [], 'o', markersize=5, color='blue')\n",
    "\n",
    "\n",
    "        def update_data(i):\n",
    "            \"\"\"The update_data is a helper method that updates the data for each frame of the animation\n",
    "            \n",
    "            Args:\n",
    "            i: This is the value of each frame\"\"\"\n",
    "            try:\n",
    "                leftline.set_data(self.left_x[i:i+1], self.left_y[i:i+1])\n",
    "            except IndexError or AttributeError:\n",
    "                pass\n",
    "            try:\n",
    "                rightline.set_data(self.right_x[i:i+1], self.right_y[i:i+1])\n",
    "            except IndexError or AttributeError:\n",
    "                pass\n",
    "            return leftline, rightline\n",
    "\n",
    "        self.draw()\n",
    "        ani = FuncAnimation(\n",
    "                    fig=fig, \n",
    "                    func = update_data, \n",
    "                    frames=len(self.left_x), \n",
    "                    interval=25, \n",
    "                    )\n",
    "        \n",
    "        ani.save(\"function.mp4\")\n",
    "        \n",
    "        plt.show()\n",
    "\n",
    "    def is_defined(self):\n",
    "        \"\"\"The is_defined method checks if the function is defined at the specified limit point.\"\"\"\n",
    "        try:\n",
    "            self.fun(self.limit)\n",
    "            return self.fun(self.limit)\n",
    "        except:\n",
    "            return False\n",
    "\n",
    "    def solve_left(self):\n",
    "        \"\"\"The solve_left method evaluates the limit for values to the left of the specified limit point.\"\"\"\n",
    "        \n",
    "        left_x = [self.limit-(10**(-n)) for n in range(1, 1000)]\n",
    "        left_x = np.array(left_x)\n",
    "        left_y = self.fun(left_x)\n",
    "        left_y = left_y[~np.isnan(left_y)]\n",
    "        is_converge = [current - previous for current, previous in zip(left_y, left_y[1:])]\n",
    "        tolerance = [(current - previous)<0.01 for current, previous in zip(is_converge, is_converge[1:])]\n",
    "        if all(tolerance[5:]):\n",
    "            return left_y\n",
    "        return None\n",
    "    \n",
    "    def solve_right(self):\n",
    "        \"\"\"The solve_left method evaluates the limit for values to the right of the specified limit point.\"\"\"\n",
    "\n",
    "        right_x = [self.limit+(10**(-n)) for n in range(1,1000)]\n",
    "        right_x = np.array(right_x)\n",
    "        right_y = self.fun(right_x)\n",
    "        right_y = right_y[~np.isnan(right_y)]\n",
    "        is_converge = [future - current for future, current in zip(right_y[1:], right_y)]\n",
    "        tolerance = [(future-current)<0.01 for future, current in zip(is_converge[1:], is_converge)]\n",
    "        if all(tolerance[5:]):\n",
    "            return right_y\n",
    "        return None\n",
    "\n",
    "    def guess(self):\n",
    "        \"\"\"The method checks that the left and right limit values are equal and uses that as a guess for the `solve_epsilon`\"\"\"\n",
    "\n",
    "        if self.solve_right() is not None and self.solve_left() is not None\\\n",
    "              and self.solve_right()[-1] == self.solve_left()[-1]:\n",
    "            return self.solve_left()[-1]\n",
    "        return None\n",
    "\n",
    "    def get_delta(self, epsilon:Union[float, int], limit_value:Union[float, int]):\n",
    "        \"\"\"The get_delta method gets a value of delta for each value of epsilon that is specified.\n",
    "        \n",
    "        Args:\n",
    "        epsilon: float|int\n",
    "        The specified epsilon value for which we want to get a delta value\n",
    "        limit_value: float|int\n",
    "        The guess for the limit of the function\"\"\"\n",
    "\n",
    "        domain_codomain = list(zip(self.x, self.y))\n",
    "        if epsilon<=0:\n",
    "            raise ValueError('`epsilon` value should be a nonzero positive number')\n",
    "        for _, y in domain_codomain.copy():\n",
    "            if abs(y-limit_value)>epsilon:\n",
    "                domain_codomain.remove((_,y))\n",
    "        domain_difference = [abs(x-self.limit)+epsilon if abs(x-self.limit)==0 else abs(x-self.limit) for x,_ in domain_codomain ]\n",
    "        try:\n",
    "            return min(domain_difference)\n",
    "        except:\n",
    "            return None\n",
    "        \n",
    "    def solve_epsilon(self):\n",
    "        \"\"\"The solve_epsilon method checks that the initial guess from the guess method is indeed the limit of the function at the specified point `self.limit`\"\"\"\n",
    "\n",
    "        epsilon_values = np.random.random(10)\n",
    "        if self.guess() != None and self.get_delta(epsilon_values[0], self.guess()):\n",
    "            delta_values = [self.get_delta(i, self.guess())for i in epsilon_values]\n",
    "            return self.guess() if len(delta_values)==len(epsilon_values) else None\n",
    "    "
   ]
  },
  {
   "cell_type": "code",
   "execution_count": 4,
   "metadata": {},
   "outputs": [
    {
     "data": {
      "image/png": "[encoded data removed]",
      "text/plain": [
       "<Figure size 640x480 with 1 Axes>"
      ]
     },
     "metadata": {},
     "output_type": "display_data"
    }
   ],
   "source": [
    "f = lambda x: np.exp(x)\n",
    "test_limit = Limit(f, float('inf'))\n",
    "\n",
    "test_limit.draw()"
   ]
  },
  {
   "cell_type": "code",
   "execution_count": 5,
   "metadata": {},
   "outputs": [
    {
     "name": "stdout",
     "output_type": "stream",
     "text": [
      "The limit approaches ∞\n"
     ]
    }
   ],
   "source": [
    "print(\"The limit approaches \\u221E\")"
   ]
  },
  {
   "cell_type": "code",
   "execution_count": 7,
   "metadata": {},
   "outputs": [
    {
     "name": "stdout",
     "output_type": "stream",
     "text": [
      "<class 'numpy.ufunc'>\n"
     ]
    }
   ],
   "source": [
    "print(np.cos.__class__)"
   ]
  },
  {
   "cell_type": "code",
   "execution_count": null,
   "metadata": {},
   "outputs": [],
   "source": []
  }
 ],
 "metadata": {
  "kernelspec": {
   "display_name": "limit_env",
   "language": "python",
   "name": "python3"
  },
  "language_info": {
   "codemirror_mode": {
    "name": "ipython",
    "version": 3
   },
   "file_extension": ".py",
   "mimetype": "text/x-python",
   "name": "python",
   "nbconvert_exporter": "python",
   "pygments_lexer": "ipython3",
   "version": "3.12.3"
  }
 },
 "nbformat": 4,
 "nbformat_minor": 2
}
